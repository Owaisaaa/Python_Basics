{
 "cells": [
  {
   "cell_type": "markdown",
   "metadata": {},
   "source": [
    "Lecture: Python - Dictionary, Tuple, and Set\n",
    "1. Python Dictionary:\n",
    "A dictionary is an unordered collection of key-value pairs, where each key must be unique. Dictionaries are also known as associative arrays or hash maps. They are incredibly useful for storing and retrieving data efficiently based on a unique identifier (the key). In Python, dictionaries are defined using curly braces {} and consist of key-value pairs separated by colons."
   ]
  },
  {
   "cell_type": "code",
   "execution_count": 1,
   "metadata": {},
   "outputs": [
    {
     "name": "stdout",
     "output_type": "stream",
     "text": [
      "{'name': 'John Doe', 'age': 20, 'major': 'Computer Science', 'gpa': 3.8}\n"
     ]
    }
   ],
   "source": [
    "# Creating a dictionary\n",
    "student = {\n",
    "    'name': 'John Doe',\n",
    "    'age': 20,\n",
    "    'major': 'Computer Science',\n",
    "    'gpa': 3.8\n",
    "}\n",
    "print(student)\n"
   ]
  },
  {
   "cell_type": "code",
   "execution_count": 2,
   "metadata": {},
   "outputs": [
    {
     "name": "stdout",
     "output_type": "stream",
     "text": [
      "John Doe\n",
      "21\n"
     ]
    }
   ],
   "source": [
    "# Accessing values using keys\n",
    "print(student['name'])  # Output: 'John Doe'\n",
    "\n",
    "# Modifying values\n",
    "student['age'] = 21\n",
    "print(student['age'])   # Output: 21\n"
   ]
  },
  {
   "cell_type": "code",
   "execution_count": 3,
   "metadata": {},
   "outputs": [
    {
     "name": "stdout",
     "output_type": "stream",
     "text": [
      "4\n",
      "dict_keys(['name', 'age', 'major', 'gpa'])\n",
      "dict_values(['John Doe', 21, 'Computer Science', 3.8])\n",
      "dict_items([('name', 'John Doe'), ('age', 21), ('major', 'Computer Science'), ('gpa', 3.8)])\n",
      "{'name': 'John Doe', 'age': 21, 'major': 'Computer Science', 'gpa': 3.8, 'university': 'XYZ University'}\n"
     ]
    }
   ],
   "source": [
    "# Dictionary methods\n",
    "print(len(student))             # Output: 4 (number of key-value pairs)\n",
    "print(student.keys())           # Output: dict_keys(['name', 'age', 'major', 'gpa'])\n",
    "print(student.values())         # Output: dict_values(['John Doe', 21, 'Computer Science', 3.8])\n",
    "print(student.items())          # Output: dict_items([('name', 'John Doe'), ('age', 21), ('major', 'Computer Science'), ('gpa', 3.8)])\n",
    "\n",
    "# Adding a new key-value pair\n",
    "student['university'] = 'XYZ University'\n",
    "print(student)\n"
   ]
  },
  {
   "cell_type": "markdown",
   "metadata": {},
   "source": [
    "2. Python Tuple:\n",
    "A tuple is an ordered, immutable collection of elements. Once created, you cannot change its elements. Tuples are defined using parentheses () and can contain elements of different data types."
   ]
  },
  {
   "cell_type": "code",
   "execution_count": 4,
   "metadata": {},
   "outputs": [
    {
     "name": "stdout",
     "output_type": "stream",
     "text": [
      "('apple', 'banana', 'orange')\n"
     ]
    }
   ],
   "source": [
    "# Creating a tuple\n",
    "fruits = ('apple', 'banana', 'orange')\n",
    "print(fruits)\n"
   ]
  },
  {
   "cell_type": "code",
   "execution_count": 5,
   "metadata": {},
   "outputs": [
    {
     "name": "stdout",
     "output_type": "stream",
     "text": [
      "banana\n",
      "('banana', 'orange')\n"
     ]
    }
   ],
   "source": [
    "# Accessing elements using indexing\n",
    "print(fruits[1])  # Output: 'banana'\n",
    "\n",
    "# Slicing a tuple\n",
    "print(fruits[1:3])  # Output: ('banana', 'orange')\n"
   ]
  },
  {
   "cell_type": "code",
   "execution_count": 6,
   "metadata": {},
   "outputs": [
    {
     "name": "stdout",
     "output_type": "stream",
     "text": [
      "3\n",
      "1\n",
      "2\n"
     ]
    }
   ],
   "source": [
    "# Tuple methods (Note: Tuples have limited methods due to immutability)\n",
    "print(len(fruits))        # Output: 3 (number of elements)\n",
    "print(fruits.count('apple'))    # Output: 1 (number of occurrences of 'apple')\n",
    "print(fruits.index('orange'))   # Output: 2 (index of 'orange')\n"
   ]
  },
  {
   "cell_type": "markdown",
   "metadata": {},
   "source": [
    "3. Python Set:\n",
    "A set is an unordered collection of unique elements. Sets are useful for removing duplicates from a list and performing mathematical set operations like union, intersection, etc. In Python, sets are defined using curly braces {}."
   ]
  },
  {
   "cell_type": "code",
   "execution_count": 7,
   "metadata": {},
   "outputs": [
    {
     "name": "stdout",
     "output_type": "stream",
     "text": [
      "{1, 2, 3, 4, 5}\n"
     ]
    }
   ],
   "source": [
    "# Creating a set\n",
    "my_set = {1, 2, 3, 3, 4, 5}\n",
    "print(my_set)\n"
   ]
  },
  {
   "cell_type": "code",
   "execution_count": 8,
   "metadata": {},
   "outputs": [
    {
     "name": "stdout",
     "output_type": "stream",
     "text": [
      "{1, 2, 3, 4, 5, 6}\n",
      "{1, 2, 4, 5, 6}\n",
      "{1, 2, 3, 4, 5}\n",
      "{3}\n"
     ]
    }
   ],
   "source": [
    "# Set methods\n",
    "my_set.add(6)           # Adding an element\n",
    "print(my_set)           # Output: {1, 2, 3, 4, 5, 6}\n",
    "\n",
    "my_set.remove(3)        # Removing an element\n",
    "print(my_set)           # Output: {1, 2, 4, 5, 6}\n",
    "\n",
    "# Set operations\n",
    "set1 = {1, 2, 3}\n",
    "set2 = {3, 4, 5}\n",
    "print(set1.union(set2))        # Output: {1, 2, 3, 4, 5} (Union)\n",
    "print(set1.intersection(set2)) # Output: {3} (Intersection)\n"
   ]
  },
  {
   "cell_type": "code",
   "execution_count": 9,
   "metadata": {},
   "outputs": [
    {
     "name": "stdout",
     "output_type": "stream",
     "text": [
      "frozenset({1, 2, 3})\n"
     ]
    }
   ],
   "source": [
    "# Creating an immutable set (frozenset)\n",
    "immutable_set = frozenset([1, 2, 3])\n",
    "print(immutable_set)\n"
   ]
  },
  {
   "cell_type": "code",
   "execution_count": null,
   "metadata": {},
   "outputs": [],
   "source": []
  }
 ],
 "metadata": {
  "kernelspec": {
   "display_name": "Python 3",
   "language": "python",
   "name": "python3"
  },
  "language_info": {
   "codemirror_mode": {
    "name": "ipython",
    "version": 3
   },
   "file_extension": ".py",
   "mimetype": "text/x-python",
   "name": "python",
   "nbconvert_exporter": "python",
   "pygments_lexer": "ipython3",
   "version": "3.6.8"
  }
 },
 "nbformat": 4,
 "nbformat_minor": 4
}
