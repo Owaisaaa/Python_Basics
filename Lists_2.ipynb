{
 "cells": [
  {
   "cell_type": "markdown",
   "metadata": {
    "id": "7Dr2QvJc5NyN"
   },
   "source": [
    "# **In this notebook we will learn about List objects**"
   ]
  },
  {
   "cell_type": "markdown",
   "metadata": {
    "id": "8bZgJM5K6oZm"
   },
   "source": [
    "**List Build Up**\n",
    "One common pattern is to start a list as the empty list [], then use append() or extend() to add elements to it:"
   ]
  },
  {
   "cell_type": "code",
   "execution_count": null,
   "metadata": {
    "colab": {
     "base_uri": "https://localhost:8080/"
    },
    "id": "WJDpoy0Z5mVY",
    "outputId": "7aa4810e-90b1-4d27-8ee8-49f2b0c8d57d"
   },
   "outputs": [
    {
     "data": {
      "text/plain": [
       "['a', 'b', 10000, 'khaipora']"
      ]
     },
     "execution_count": 3,
     "metadata": {},
     "output_type": "execute_result"
    }
   ],
   "source": [
    "list = []          ## Start as the empty list\n",
    "list.append('a')   ## Use append() to add elements\n",
    "list.append('b')\n",
    "list.append(10000)\n",
    "list.append('khaipora')\n",
    "list"
   ]
  },
  {
   "cell_type": "markdown",
   "metadata": {
    "id": "zt5L33Ih7j9W"
   },
   "source": [
    "**List Slices**\n",
    "Slices work on lists just as with strings, and can also be used to change sub-parts of the list."
   ]
  },
  {
   "cell_type": "code",
   "execution_count": null,
   "metadata": {
    "colab": {
     "base_uri": "https://localhost:8080/"
    },
    "id": "c0gOWGZ27ZJ8",
    "outputId": "b767e392-7e4c-48e4-a8c4-51b9040eae9b"
   },
   "outputs": [
    {
     "name": "stdout",
     "output_type": "stream",
     "text": [
      "c\n",
      "['b', 'c', 'd']\n",
      "['z', 'c', 'd']\n"
     ]
    }
   ],
   "source": [
    "list = ['a', 'b', 'c', 'd']\n",
    "print(list[-2])\n",
    "print(list[1:4])   ## ['b', 'c']\n",
    "list[0:2] = 'z'    ## replace ['a', 'b'] with ['z']\n",
    "print(list)         ## ['z', 'c', 'd']"
   ]
  },
  {
   "cell_type": "markdown",
   "metadata": {
    "id": "kQ3Qq7h-8Hlx"
   },
   "source": [
    "**List Methods**\n",
    "\n",
    "**list.append(elem)** -- adds a single element to the end of the list. Common error: does not return the new list, just modifies the original.\n",
    "**list.insert(index, elem)** -- inserts the element at the given index, shifting elements to the right.\n",
    "\n",
    "**list.extend(list2)** --adds the elements in list2 to the end of the list. Using + or += on a list is similar to using extend().\n",
    "\n",
    "**list.index(elem)** -- searches for the given element from the start of the list and returns its index. Throws a ValueError if the element does not appear (use \"in\" to check without a ValueError).\n",
    "\n",
    "**list.remove(elem)** -- searches for the first instance of the given element and removes it (throws ValueError if not present)\n",
    "\n",
    "**list.sort()** -- sorts the list in place (does not return it). (The sorted() function shown later is preferred.)\n",
    "\n",
    "**list.reverse()** -- reverses the list in place (does not return it)\n",
    "\n",
    "**list.pop(index)** -- removes and returns the element at the given index. Returns the rightmost element if index is omitted (roughly the opposite of append()).\n",
    "\n",
    "**Notice** that these are *methods* on a list object, while **len()** is a function that takes the list (or string or whatever) as an argument."
   ]
  },
  {
   "cell_type": "code",
   "execution_count": 18,
   "metadata": {
    "colab": {
     "base_uri": "https://localhost:8080/"
    },
    "id": "Sul0Z2_j7_o-",
    "outputId": "650579ba-5074-4d8c-9984-d4f745d3cf44"
   },
   "outputs": [
    {
     "name": "stdout",
     "output_type": "stream",
     "text": [
      "['larry', 'curly', 'moe']\n",
      "['larry', 'curly', 'Owais', 'moe', 'shemp']\n",
      "['larry', 'curly', 'Owais', 'moe', 'shemp', 'yyy', 'zzz']\n",
      "['yyy', 'zzz']\n",
      "5\n",
      "['larry', 'curly', 'Owais', 'moe', 'shemp', 'yyy']\n",
      "moe\n",
      "['larry', 'curly', 'Owais', 'shemp', 'yyy']\n",
      "['yyy', 'shemp', 'Owais', 'curly', 'larry']\n"
     ]
    }
   ],
   "source": [
    "list = ['larry', 'curly', 'moe']\n",
    "print(list)\n",
    "list.append('shemp')         ## append elem at end\n",
    "list.insert(2, 'Owais')        ## insert elem at index 0\n",
    "print(list)\n",
    "list2 = ['yyy', 'zzz']\n",
    "list.extend(list2)  ## add list of elems at end\n",
    "print(list)  ## ['xxx', 'larry', 'curly', 'moe', 'shemp', 'yyy', 'zzz']\n",
    "print(list2)\n",
    "print(list.index('yyy'))    ## 2\n",
    "\n",
    "list.remove('zzz')         ## search and remove that element\n",
    "print(list)\n",
    "\n",
    "x = list.pop(3) \n",
    "print(x)\n",
    "print(list)\n",
    "list.reverse()\n",
    "print(list)\n",
    "## removes and returns 'larry'\n",
    "# print(list)  ## ['Jem', 'moe', 'shemp', 'yyy', 'zzz']"
   ]
  },
  {
   "cell_type": "markdown",
   "metadata": {
    "id": "O-J0JVAc9s0k"
   },
   "source": [
    "**FOR and IN**\n",
    "Python's *for* and *in* constructs are extremely useful, and the first use of them we'll see is with lists. The *for* construct -- for var in list -- is an easy way to look at each element in a list (or other collection). Do not add or remove from the list during iteration."
   ]
  },
  {
   "cell_type": "code",
   "execution_count": 20,
   "metadata": {
    "colab": {
     "base_uri": "https://localhost:8080/"
    },
    "id": "LjzR1aM9-tG8",
    "outputId": "debc0bf1-989e-479d-c6a6-507f7cd06cf4"
   },
   "outputs": [
    {
     "name": "stdout",
     "output_type": "stream",
     "text": [
      "O\n",
      "w\n",
      "a\n",
      "i\n",
      "s\n"
     ]
    }
   ],
   "source": [
    "squares = [1, 4, 9, 16]\n",
    "sum = 0\n",
    "for num in squares:\n",
    "  sum += num\n",
    "print(sum)  ## 30\n",
    "\n",
    "str1 = 'Owais'\n",
    "for ch in str1:\n",
    "  print(ch)"
   ]
  },
  {
   "cell_type": "code",
   "execution_count": 22,
   "metadata": {
    "colab": {
     "base_uri": "https://localhost:8080/"
    },
    "id": "phadXn5-_JeN",
    "outputId": "311e0b34-8d2b-4b43-a01f-07498e4f02d0"
   },
   "outputs": [
    {
     "name": "stdout",
     "output_type": "stream",
     "text": [
      "Awai yeti chu\n"
     ]
    }
   ],
   "source": [
    "list = ['larry', 'curly', 'moe','Owais']\n",
    "if 'Owais' in list:\n",
    "    print('Awai yeti chu')\n",
    "else:\n",
    "  print('Yet chun kihin')"
   ]
  },
  {
   "cell_type": "markdown",
   "metadata": {
    "id": "Js6G8AOw_yUE"
   },
   "source": [
    "**Range**\n",
    "The **range(n)** function yields the numbers 0, 1, ... n-1, and **range(a, b)** returns a, a+1, ... b-1 -- up to but not including the last number. The combination of the for-loop and the range() function allow you to build a traditional numeric for loop:"
   ]
  },
  {
   "cell_type": "code",
   "execution_count": 22,
   "metadata": {
    "colab": {
     "base_uri": "https://localhost:8080/"
    },
    "id": "Sx7yKMZE_Vt6",
    "outputId": "e4c78d24-a9bd-4291-bee1-cb6fdf34aa20"
   },
   "outputs": [
    {
     "name": "stdout",
     "output_type": "stream",
     "text": [
      "10\n",
      "20\n",
      "30\n",
      "40\n"
     ]
    }
   ],
   "source": [
    "## print the numbers from 0 through 99\n",
    "for i in range(10,50,10):\n",
    "   print(i)"
   ]
  },
  {
   "cell_type": "markdown",
   "metadata": {
    "id": "9bUoAlCvBhg6"
   },
   "source": [
    "**While Loop**\n",
    "Python also has the standard while-loop, and the *break* and *continue* statements work as in C++ and Java, altering the course of the innermost loop. The above for/in loops solves the common case of iterating over every element in a list, but the while loop gives you total control over the index numbers."
   ]
  },
  {
   "cell_type": "code",
   "execution_count": 32,
   "metadata": {
    "colab": {
     "base_uri": "https://localhost:8080/"
    },
    "id": "von3Bt5-_xNQ",
    "outputId": "114f2d62-0821-4665-957f-0794102bf7e4"
   },
   "outputs": [
    {
     "name": "stdout",
     "output_type": "stream",
     "text": [
      "1\n",
      "2\n",
      "3\n",
      "4\n",
      "5\n",
      "1\n",
      "8\n"
     ]
    }
   ],
   "source": [
    "# Simple while loop\n",
    "i = 1\n",
    "while i < 6:\n",
    "  print(i)\n",
    "  i += 1\n",
    "\n",
    "# list1 = [1,2,45,67,78]\n",
    "# print(len(list1))\n",
    "\n",
    "# # Another while loop\n",
    "# print(\"Access every 3rd element in a list\")\n",
    "list = [1, 2, 7, 8]\n",
    "i = 0\n",
    "while i < len(list):\n",
    "  print(list[i])\n",
    "  i = i + 3"
   ]
  },
  {
   "cell_type": "code",
   "execution_count": 34,
   "metadata": {
    "colab": {
     "base_uri": "https://localhost:8080/"
    },
    "id": "Q-99LBdYlU-b",
    "outputId": "efba480a-92c2-4eb7-f653-641004cee0bb"
   },
   "outputs": [
    {
     "name": "stdout",
     "output_type": "stream",
     "text": [
      "[27, 37, 35, 32, 11, 14, 8, 39]\n"
     ]
    }
   ],
   "source": [
    "import random\n",
    "#Generate 5 random numbers between 10 and 30\n",
    "randomlist = random.sample(range(5, 40), 8)\n",
    "print(randomlist)"
   ]
  },
  {
   "cell_type": "code",
   "execution_count": 3,
   "metadata": {
    "id": "zDsZvx9YXXWe"
   },
   "outputs": [
    {
     "name": "stdout",
     "output_type": "stream",
     "text": [
      "Index: 0 Value: 10\n",
      "Index: 1 Value: 20\n",
      "Index: 2 Value: 30\n",
      "Index: 3 Value: 40\n",
      "Index: 4 Value: 50\n"
     ]
    }
   ],
   "source": [
    "# print index and value using range\n",
    "my_list = [10, 20, 30, 40, 50]\n",
    "\n",
    "# Using a for loop\n",
    "for index in range(len(my_list)):\n",
    "    value = my_list[index]\n",
    "    print(\"Index:\", index, \"Value:\", value)\n"
   ]
  },
  {
   "cell_type": "code",
   "execution_count": 4,
   "metadata": {},
   "outputs": [
    {
     "name": "stdout",
     "output_type": "stream",
     "text": [
      "Index: 0 Value: 10\n",
      "Index: 1 Value: 20\n",
      "Index: 2 Value: 30\n",
      "Index: 3 Value: 40\n",
      "Index: 4 Value: 50\n"
     ]
    }
   ],
   "source": [
    "# print index and value using enumerate\n",
    "my_list = [10, 20, 30, 40, 50]\n",
    "\n",
    "# Using enumerate function\n",
    "for index, value in enumerate(my_list):\n",
    "    print(\"Index:\", index, \"Value:\", value)\n",
    "\n"
   ]
  },
  {
   "cell_type": "code",
   "execution_count": 27,
   "metadata": {},
   "outputs": [
    {
     "name": "stdout",
     "output_type": "stream",
     "text": [
      "[1, 4, 7, 10, 13, 16, 19]\n"
     ]
    }
   ],
   "source": [
    "list1 = list(range(1,20,3))\n",
    "print(list1)"
   ]
  },
  {
   "cell_type": "code",
   "execution_count": 29,
   "metadata": {},
   "outputs": [
    {
     "name": "stdout",
     "output_type": "stream",
     "text": [
      "[1, 5, 45, 100]\n"
     ]
    }
   ],
   "source": [
    "list1 = list([1,5,45,100])\n",
    "print(list1)"
   ]
  },
  {
   "cell_type": "code",
   "execution_count": null,
   "metadata": {},
   "outputs": [],
   "source": []
  }
 ],
 "metadata": {
  "colab": {
   "provenance": []
  },
  "kernelspec": {
   "display_name": "Python 3",
   "language": "python",
   "name": "python3"
  },
  "language_info": {
   "codemirror_mode": {
    "name": "ipython",
    "version": 3
   },
   "file_extension": ".py",
   "mimetype": "text/x-python",
   "name": "python",
   "nbconvert_exporter": "python",
   "pygments_lexer": "ipython3",
   "version": "3.6.8"
  }
 },
 "nbformat": 4,
 "nbformat_minor": 1
}
