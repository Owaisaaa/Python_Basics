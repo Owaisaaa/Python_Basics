{
 "cells": [
  {
   "cell_type": "markdown",
   "metadata": {},
   "source": [
    "## OOP Concepts\n",
    "### Classes: A class is a blueprint for creating objects. It defines the attributes and methods that an object will have."
   ]
  },
  {
   "cell_type": "code",
   "execution_count": 11,
   "metadata": {},
   "outputs": [],
   "source": [
    "class Person:\n",
    "  def __init__(self, name, age):\n",
    "    self.name = name\n",
    "    self.age = age\n",
    "\n",
    "  def say_hello(self):\n",
    "    print(\"Hello, my name is {} and I am {} years old.\".format(self.name, self.age))\n",
    "    #print(\"Hello, my name and age is : \", self.name, self.age) \n",
    "    #print(f\"Hello, my name is {self.name} and I am {self.age} years old\")"
   ]
  },
  {
   "cell_type": "markdown",
   "metadata": {},
   "source": [
    "### Objects: An object is an instance of a class. It has the attributes and methods that are defined in the class."
   ]
  },
  {
   "cell_type": "code",
   "execution_count": 17,
   "metadata": {},
   "outputs": [
    {
     "name": "stdout",
     "output_type": "stream",
     "text": [
      "Mohsin\n",
      "30\n",
      "Hello, my name is Mohsin and I am 30 years old.\n"
     ]
    }
   ],
   "source": [
    "person = Person(\"Mohsin\", 30)\n",
    "\n",
    "print(person.name)  # John Doe\n",
    "print(person.age)  # 30\n",
    "person.say_hello()  # Hello, my name is John Doe and I am 30 years old.\n"
   ]
  },
  {
   "cell_type": "markdown",
   "metadata": {},
   "source": [
    "### Attributes: An attribute is a piece of data that is associated with an object. It is defined in the class and can be accessed by the object.\n",
    "### Methods: A method is a function that is associated with an object. It is defined in the class and can be called by the object.\n",
    "### Inheritance: Inheritance is the ability of one class to inherit the attributes and methods of another class."
   ]
  },
  {
   "cell_type": "code",
   "execution_count": 13,
   "metadata": {},
   "outputs": [],
   "source": [
    "class Employee(Person):\n",
    "  def __init__(self, name, age, department):\n",
    "    super().__init__(name, age)\n",
    "    self.department = department\n",
    "\n",
    "  def say_hello(self):\n",
    "    print(\"Hello, my name is {} and I am {} years old. I work in the {} department.\".format(self.name, self.age, self.department))\n"
   ]
  },
  {
   "cell_type": "markdown",
   "metadata": {},
   "source": [
    "## Polymorphism: Polymorphism is the ability of objects of different classes to respond to the same message in different ways."
   ]
  },
  {
   "cell_type": "code",
   "execution_count": 21,
   "metadata": {},
   "outputs": [
    {
     "name": "stdout",
     "output_type": "stream",
     "text": [
      "Hello, my name is Mohsin and I am 30 years old.\n",
      "Hello, my name is Zahid and I am 25 years old. I work in the Computer Science department.\n"
     ]
    }
   ],
   "source": [
    "def greet_person(person):\n",
    "  person.say_hello()\n",
    "\n",
    "greet_person(person)  # Hello, my name is John Doe and I am 30 years old.\n",
    "greet_person(Employee(\"Zahid\", 25, \"Computer Science\"))  # Hello, my name is Jane Doe and I am 25 years old. I work in the Sales department.\n"
   ]
  },
  {
   "cell_type": "code",
   "execution_count": null,
   "metadata": {},
   "outputs": [],
   "source": []
  }
 ],
 "metadata": {
  "kernelspec": {
   "display_name": "Python 3",
   "language": "python",
   "name": "python3"
  },
  "language_info": {
   "codemirror_mode": {
    "name": "ipython",
    "version": 3
   },
   "file_extension": ".py",
   "mimetype": "text/x-python",
   "name": "python",
   "nbconvert_exporter": "python",
   "pygments_lexer": "ipython3",
   "version": "3.6.8"
  }
 },
 "nbformat": 4,
 "nbformat_minor": 4
}
