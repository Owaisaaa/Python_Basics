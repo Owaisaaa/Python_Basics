{
 "cells": [
  {
   "cell_type": "markdown",
   "metadata": {},
   "source": [
    "### NumPy is a fundamental package for scientific computing in Python, and it provides support for working with arrays and matrices.\n",
    "#### Ndarrays (n-dimensional arrays):\n",
    "#### NumPy's main data structure is the ndarray, short for n-dimensional array. It is a versatile and efficient array object that can hold elements of the same data type. Ndarrays can have any number of dimensions, allowing you to represent scalars, vectors, matrices, and more complex data structures."
   ]
  },
  {
   "cell_type": "code",
   "execution_count": 1,
   "metadata": {},
   "outputs": [],
   "source": [
    "import numpy as np"
   ]
  },
  {
   "cell_type": "code",
   "execution_count": 2,
   "metadata": {},
   "outputs": [
    {
     "name": "stdout",
     "output_type": "stream",
     "text": [
      "[1 2 3 4 5]\n"
     ]
    }
   ],
   "source": [
    "# Create a 1-dimensional array\n",
    "arr_1d = np.array([1, 2, 3, 4, 5])\n",
    "print(arr_1d)"
   ]
  },
  {
   "cell_type": "code",
   "execution_count": 3,
   "metadata": {},
   "outputs": [
    {
     "name": "stdout",
     "output_type": "stream",
     "text": [
      "[[1 2 3]\n",
      " [4 5 6]]\n"
     ]
    }
   ],
   "source": [
    "# Create a 2-dimensional array (matrix)\n",
    "arr_2d = np.array([[1, 2, 3], [4, 5, 6]])\n",
    "print(arr_2d)"
   ]
  },
  {
   "cell_type": "markdown",
   "metadata": {},
   "source": [
    "### Basic operations with Ndarrays:\n",
    "#### NumPy allows you to perform various mathematical and logical operations on ndarrays efficiently. Here are some basic operations:"
   ]
  },
  {
   "cell_type": "code",
   "execution_count": 17,
   "metadata": {},
   "outputs": [
    {
     "name": "stdout",
     "output_type": "stream",
     "text": [
      "Addition :  [5 7 9]\n",
      "Subtraction :  [-3 -3 -3]\n",
      "multiplication [ 4 10 18]\n",
      "division [0.25 0.4  0.5 ]\n"
     ]
    }
   ],
   "source": [
    "# Arithmetic Operations\n",
    "\n",
    "a = np.array([1, 2, 3])\n",
    "b = np.array([4, 5, 6])\n",
    "\n",
    "# Element-wise addition\n",
    "addition = a + b\n",
    "print(\"Addition : \", addition)\n",
    "\n",
    "# Element-wise subtraction\n",
    "subtraction = a - b\n",
    "print(\"Subtraction : \", subtraction)\n",
    "\n",
    "# Element-wise multiplication\n",
    "multiplication = a * b\n",
    "print(\"multiplication\", multiplication)\n",
    "\n",
    "# Element-wise division\n",
    "division = a / b\n",
    "print(\"division\", division)"
   ]
  },
  {
   "cell_type": "markdown",
   "metadata": {},
   "source": [
    "### Array Broadcasting:\n",
    "#### NumPy performs automatic broadcasting when you perform operations on arrays of different shapes. It allows you to work with arrays that may not have the exact same dimensions."
   ]
  },
  {
   "cell_type": "code",
   "execution_count": 21,
   "metadata": {},
   "outputs": [
    {
     "name": "stdout",
     "output_type": "stream",
     "text": [
      "result :  [7 7 7]\n"
     ]
    }
   ],
   "source": [
    "c = np.array([2, 2, 2])\n",
    "\n",
    "result = 5 + c  # Broadcasting: [1+2, 2+2, 3+2]\n",
    "print(\"result : \" ,result)"
   ]
  },
  {
   "cell_type": "code",
   "execution_count": 11,
   "metadata": {},
   "outputs": [
    {
     "name": "stdout",
     "output_type": "stream",
     "text": [
      "result :  [ 4 16 25 36]\n"
     ]
    }
   ],
   "source": [
    "# Square the elements of a list\n",
    "c = np.array([2, 4, 5, 6])\n",
    "\n",
    "result = c ** 2 # Broadcasting: [1+2, 2+2, 3+2]\n",
    "print(\"result : \" ,result)"
   ]
  },
  {
   "cell_type": "markdown",
   "metadata": {},
   "source": [
    "### Universal Functions (ufuncs):\n",
    "#### NumPy provides a wide range of universal functions (ufuncs) that operate element-wise on ndarrays."
   ]
  },
  {
   "cell_type": "code",
   "execution_count": 17,
   "metadata": {},
   "outputs": [
    {
     "name": "stdout",
     "output_type": "stream",
     "text": [
      "sqr_arr [ 9 16 25 36]\n",
      "sqrt_arr [ 3.        4.       22.627417]\n",
      "exp_arr [8.10308393e+003 8.88611052e+006 2.28441359e+222]\n",
      "sum_elements 537\n",
      "\n",
      "Transpose of Array: \n",
      "[[4. 2.]\n",
      " [7. 6.]]\n"
     ]
    }
   ],
   "source": [
    "# Square\n",
    "array1 = np.array([3, 4, 5, 6])\n",
    "sqr_arr = np.square(array1)\n",
    "print(\"sqr_arr\", sqr_arr)\n",
    "\n",
    "# Square root\n",
    "a = np.array([9, 16, 512])\n",
    "sqrt_arr = np.sqrt(a)\n",
    "print(\"sqrt_arr\", sqrt_arr)\n",
    "\n",
    "# Exponential\n",
    "exp_arr = np.exp(a)\n",
    "print(\"exp_arr\", exp_arr)\n",
    "\n",
    "# Sum of all elements\n",
    "sum_elements = np.sum(a)\n",
    "print(\"sum_elements\", sum_elements)\n",
    "\n",
    "# Transpose of Array\n",
    "# using In-built function 'T'\n",
    "# First Array\n",
    "arr1 = np.array([[4, 7], [2, 6]], \n",
    "                 dtype = np.float64)\n",
    "Trans_arr = arr1.T\n",
    "print(\"\\nTranspose of Array: \")\n",
    "print(Trans_arr)"
   ]
  },
  {
   "cell_type": "markdown",
   "metadata": {},
   "source": [
    "### Indexing and Slicing:\n",
    "#### You can access elements of ndarrays using indexing and slicing, similar to Python lists."
   ]
  },
  {
   "cell_type": "code",
   "execution_count": 11,
   "metadata": {},
   "outputs": [
    {
     "name": "stdout",
     "output_type": "stream",
     "text": [
      "30\n",
      "[20 30 40]\n"
     ]
    }
   ],
   "source": [
    "arr = np.array([10, 20, 30, 40, 50])\n",
    "\n",
    "# Accessing individual element\n",
    "print(arr[2])  # Outputs: 30\n",
    "\n",
    "# Slicing\n",
    "print(arr[1:4])  # Outputs: [20, 30, 40]\n"
   ]
  },
  {
   "cell_type": "code",
   "execution_count": 12,
   "metadata": {},
   "outputs": [
    {
     "name": "stdout",
     "output_type": "stream",
     "text": [
      "\n",
      "Array created using passed tuple:\n",
      " [1 3 2]\n"
     ]
    }
   ],
   "source": [
    "# Creating an array from tuple\n",
    "arr = np.array((1, 3, 2))\n",
    "print(\"\\nArray created using \"\n",
    "      \"passed tuple:\\n\", arr)"
   ]
  },
  {
   "cell_type": "code",
   "execution_count": 13,
   "metadata": {},
   "outputs": [
    {
     "name": "stdout",
     "output_type": "stream",
     "text": [
      "Integer Datatype: \n",
      "int32\n",
      "\n",
      "Float Datatype: \n",
      "float64\n",
      "\n",
      "Forcing a Datatype: \n",
      "int64\n"
     ]
    }
   ],
   "source": [
    "# Integer datatype\n",
    "# guessed by Numpy\n",
    "x = np.array([1, 2])  \n",
    "print(\"Integer Datatype: \")\n",
    "print(x.dtype)         \n",
    " \n",
    "# Float datatype\n",
    "# guessed by Numpy\n",
    "x = np.array([1.0, 2.0]) \n",
    "print(\"\\nFloat Datatype: \")\n",
    "print(x.dtype)  \n",
    " \n",
    "# Forced Datatype\n",
    "x = np.array([1, 2], dtype = np.int64)   \n",
    "print(\"\\nForcing a Datatype: \")\n",
    "print(x.dtype)"
   ]
  },
  {
   "cell_type": "markdown",
   "metadata": {},
   "source": [
    "### shape:\n",
    "#### The shape attribute of a NumPy ndarray returns a tuple representing the dimensions of the array. It tells you the number of elements along each axis (dimension) of the array."
   ]
  },
  {
   "cell_type": "code",
   "execution_count": 1,
   "metadata": {},
   "outputs": [
    {
     "name": "stdout",
     "output_type": "stream",
     "text": [
      "(2, 3)\n"
     ]
    }
   ],
   "source": [
    "arr = np.array([[1, 2, 3], [4, 5, 6]])\n",
    "print(arr.shape)  # Outputs: (2, 3)\n"
   ]
  },
  {
   "cell_type": "markdown",
   "metadata": {},
   "source": [
    "### reshape:\n",
    "#### The reshape function allows you to change the shape (dimensions) of an existing ndarray without changing the data it contains. It returns a new ndarray with the specified shape."
   ]
  },
  {
   "cell_type": "code",
   "execution_count": 29,
   "metadata": {},
   "outputs": [
    {
     "name": "stdout",
     "output_type": "stream",
     "text": [
      "(8,)\n",
      "(4, 2)\n",
      "[[1 2]\n",
      " [3 4]\n",
      " [5 6]\n",
      " [7 8]]\n"
     ]
    }
   ],
   "source": [
    "arr = np.array([1, 2, 3, 4, 5, 6, 7, 8])\n",
    "print(arr.shape)\n",
    "reshaped_arr = arr.reshape(4, 2)  # Reshape to a 2x3 matrix\n",
    "print(reshaped_arr.shape)\n",
    "print(reshaped_arr)\n"
   ]
  },
  {
   "cell_type": "markdown",
   "metadata": {},
   "source": [
    "#### If you want to reshape an array and automatically infer one of the dimensions based on the other, you can use the special value -1:"
   ]
  },
  {
   "cell_type": "code",
   "execution_count": 30,
   "metadata": {},
   "outputs": [
    {
     "name": "stdout",
     "output_type": "stream",
     "text": [
      "[[1 2 3]\n",
      " [4 5 6]]\n",
      "\n",
      "[1 2 3 4 5 6]\n"
     ]
    }
   ],
   "source": [
    "arr = np.array([1, 2, 3, 4, 5, 6]) # 1D \n",
    "reshaped_arr = arr.reshape(2, -1)  # Reshape to a 2xN matrix (N is inferred)\n",
    "print(reshaped_arr)\n",
    "print()\n",
    "reshaped_arr = arr.reshape(-1)  # Reshape to a 2xN matrix (N is inferred)\n",
    "print(reshaped_arr)"
   ]
  },
  {
   "cell_type": "markdown",
   "metadata": {},
   "source": [
    "### Conditions and Boolean arrays\n",
    "#### In NumPy, you can use conditions and boolean arrays to perform element-wise comparisons and create boolean arrays that represent the truth values of these comparisons. \n",
    "#### Boolean arrays are particularly useful for indexing and selecting elements from ndarrays based on certain conditions."
   ]
  },
  {
   "cell_type": "code",
   "execution_count": 8,
   "metadata": {},
   "outputs": [
    {
     "name": "stdout",
     "output_type": "stream",
     "text": [
      "Original Array: [1 0 1 0 0 1 0]\n",
      "Boolean Array: [ True False  True False False  True False]\n"
     ]
    }
   ],
   "source": [
    "arr = np.array([1, 0, 1, 0, 0, 1, 0])\n",
    "  \n",
    "print(f'Original Array: {arr}')\n",
    "  \n",
    "bool_arr = np.array(arr, dtype='bool')\n",
    "  \n",
    "print(f'Boolean Array: {bool_arr}')"
   ]
  },
  {
   "cell_type": "code",
   "execution_count": 9,
   "metadata": {},
   "outputs": [
    {
     "name": "stdout",
     "output_type": "stream",
     "text": [
      "Original Array: [5 None 1 25 -10 0 'A']\n",
      "Boolean Array: [ True False  True  True  True False  True]\n"
     ]
    }
   ],
   "source": [
    "arr = np.array([5, None, 1, 25, -10, 0, 'A'])\n",
    "\n",
    "print(f'Original Array: {arr}')\n",
    "\n",
    "bool_arr = np.array(arr, dtype='bool')\n",
    "\n",
    "print(f'Boolean Array: {bool_arr}')\n"
   ]
  },
  {
   "cell_type": "code",
   "execution_count": 4,
   "metadata": {},
   "outputs": [
    {
     "name": "stdout",
     "output_type": "stream",
     "text": [
      "[False False False  True  True]\n",
      "[ True  True False False False]\n",
      "[False False False  True False]\n"
     ]
    }
   ],
   "source": [
    "arr = np.array([1, 2, 3, 4, 5])\n",
    "\n",
    "# Element-wise comparisons\n",
    "greater_than_3 = arr > 3\n",
    "less_than_equal_2 = arr <= 2\n",
    "equal_to_4 = arr == 4\n",
    "\n",
    "print(greater_than_3)       # [False False False  True  True]\n",
    "print(less_than_equal_2)    # [ True  True False False False]\n",
    "print(equal_to_4)           # [False False False  True False]"
   ]
  },
  {
   "cell_type": "markdown",
   "metadata": {},
   "source": [
    "### Boolean Indexing:\n",
    "#### Boolean arrays can be used for indexing to select elements that satisfy certain conditions. When a boolean array is used as an index for an ndarray, only the elements corresponding to True values are selected."
   ]
  },
  {
   "cell_type": "code",
   "execution_count": 5,
   "metadata": {},
   "outputs": [
    {
     "name": "stdout",
     "output_type": "stream",
     "text": [
      "[4 5]\n"
     ]
    }
   ],
   "source": [
    "selected_elements = arr[greater_than_3]\n",
    "print(selected_elements)  # [4 5]\n"
   ]
  },
  {
   "cell_type": "markdown",
   "metadata": {},
   "source": [
    "### Combining Conditions:\n",
    "#### You can combine conditions using logical operators (& for element-wise \"and\", | for element-wise \"or\", and ~ for element-wise \"not\") to create complex conditions."
   ]
  },
  {
   "cell_type": "code",
   "execution_count": 6,
   "metadata": {},
   "outputs": [
    {
     "name": "stdout",
     "output_type": "stream",
     "text": [
      "[False False  True  True False]\n"
     ]
    }
   ],
   "source": [
    "combined_condition = (arr > 2) & (arr < 5)\n",
    "print(combined_condition)  # [False False  True  True False]\n"
   ]
  },
  {
   "cell_type": "markdown",
   "metadata": {},
   "source": [
    "### Using Boolean Arrays for Assignment:\n",
    "#### Boolean arrays can also be used to selectively modify elements of an ndarray."
   ]
  },
  {
   "cell_type": "code",
   "execution_count": 7,
   "metadata": {},
   "outputs": [
    {
     "name": "stdout",
     "output_type": "stream",
     "text": [
      "[1 2 3 0 0]\n"
     ]
    }
   ],
   "source": [
    "arr[arr > 3] = 0\n",
    "print(arr)  # [1 2 3 0 0]\n",
    "    "
   ]
  },
  {
   "cell_type": "code",
   "execution_count": null,
   "metadata": {},
   "outputs": [],
   "source": []
  }
 ],
 "metadata": {
  "kernelspec": {
   "display_name": "Python 3",
   "language": "python",
   "name": "python3"
  },
  "language_info": {
   "codemirror_mode": {
    "name": "ipython",
    "version": 3
   },
   "file_extension": ".py",
   "mimetype": "text/x-python",
   "name": "python",
   "nbconvert_exporter": "python",
   "pygments_lexer": "ipython3",
   "version": "3.6.8"
  }
 },
 "nbformat": 4,
 "nbformat_minor": 4
}
