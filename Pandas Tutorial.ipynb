{
 "cells": [
  {
   "cell_type": "markdown",
   "metadata": {},
   "source": [
    "### Pandas is a Python library that is used for data analysis. It provides a number of data structures and operations for working with tabular data.\n",
    "\n",
    "#### Two of the most important data structures in Pandas are Series and DataFrame.\n",
    "\n",
    "#### Series: A Series is a one-dimensional labeled array. It is similar to a NumPy array, but it has an index that can be used to access individual elements.\n",
    "#### DataFrame: A DataFrame is a two-dimensional labeled array. It is similar to a spreadsheet or a SQL table. It has rows and columns, and each row and column has a name."
   ]
  },
  {
   "cell_type": "code",
   "execution_count": 2,
   "metadata": {},
   "outputs": [
    {
     "name": "stdout",
     "output_type": "stream",
     "text": [
      "A    10\n",
      "B    20\n",
      "C    30\n",
      "D    40\n",
      "E    50\n",
      "dtype: int64\n"
     ]
    }
   ],
   "source": [
    "import pandas as pd\n",
    "\n",
    "data = [10, 20, 30, 40, 50]\n",
    "index = ['A', 'B', 'C', 'D', 'E']\n",
    "series = pd.Series(data, index=index)\n",
    "\n",
    "print(series)"
   ]
  },
  {
   "cell_type": "code",
   "execution_count": 3,
   "metadata": {},
   "outputs": [
    {
     "name": "stdout",
     "output_type": "stream",
     "text": [
      "20\n",
      "A    15\n",
      "B    25\n",
      "C    35\n",
      "D    45\n",
      "E    55\n",
      "dtype: int64\n",
      "C    35\n",
      "D    45\n",
      "E    55\n",
      "dtype: int64\n"
     ]
    }
   ],
   "source": [
    "# Accessing elements by index\n",
    "print(series['B'])  # Output: 20\n",
    "\n",
    "# Arithmetic operations\n",
    "series += 5\n",
    "print(series)\n",
    "\n",
    "# Filtering elements\n",
    "filtered_series = series[series > 30]\n",
    "print(filtered_series)"
   ]
  },
  {
   "cell_type": "code",
   "execution_count": 4,
   "metadata": {},
   "outputs": [
    {
     "name": "stdout",
     "output_type": "stream",
     "text": [
      "A     225\n",
      "B     625\n",
      "C    1225\n",
      "D    2025\n",
      "E    3025\n",
      "dtype: int64\n"
     ]
    }
   ],
   "source": [
    "# Arithmetic operations\n",
    "series_squared = series ** 2\n",
    "print(series_squared)\n"
   ]
  },
  {
   "cell_type": "code",
   "execution_count": 5,
   "metadata": {},
   "outputs": [
    {
     "name": "stdout",
     "output_type": "stream",
     "text": [
      "175\n",
      "35.0\n",
      "55\n"
     ]
    }
   ],
   "source": [
    "# Aggregation\n",
    "sum_of_series = series.sum()\n",
    "print(sum_of_series)\n",
    "mean_of_series = series.mean()\n",
    "print(mean_of_series)\n",
    "max_of_series = series.max()\n",
    "print(max_of_series)"
   ]
  },
  {
   "cell_type": "markdown",
   "metadata": {},
   "source": [
    "### Dataframe "
   ]
  },
  {
   "cell_type": "code",
   "execution_count": 6,
   "metadata": {},
   "outputs": [
    {
     "name": "stdout",
     "output_type": "stream",
     "text": [
      "      Name  Age         City\n",
      "0    Alice   25     New York\n",
      "1      Bob   30  Los Angeles\n",
      "2  Charlie   22      Chicago\n",
      "3    David   28      Houston\n"
     ]
    }
   ],
   "source": [
    "data = {'Name': ['Alice', 'Bob', 'Charlie', 'David'],\n",
    "        'Age': [25, 30, 22, 28],\n",
    "        'City': ['New York', 'Los Angeles', 'Chicago', 'Houston']}\n",
    "df = pd.DataFrame(data)\n",
    "print(df)"
   ]
  },
  {
   "cell_type": "code",
   "execution_count": 23,
   "metadata": {},
   "outputs": [
    {
     "name": "stdout",
     "output_type": "stream",
     "text": [
      "      Name  Age         City\n",
      "0    Alice   25     New York\n",
      "1      Bob   30  Los Angeles\n",
      "2  Charlie   22      Chicago\n",
      "3    David   28      Houston\n"
     ]
    }
   ],
   "source": [
    "# Display first few rows\n",
    "print(df.head())"
   ]
  },
  {
   "cell_type": "code",
   "execution_count": 8,
   "metadata": {},
   "outputs": [
    {
     "name": "stdout",
     "output_type": "stream",
     "text": [
      "0      Alice\n",
      "1        Bob\n",
      "2    Charlie\n",
      "3      David\n",
      "Name: Name, dtype: object\n"
     ]
    }
   ],
   "source": [
    "# Accessing columns\n",
    "print(df['Name'])"
   ]
  },
  {
   "cell_type": "markdown",
   "metadata": {},
   "source": [
    "### loc and iloc are two methods in Pandas that are used to select rows and columns of a DataFrame. The main difference between loc and iloc is that loc is label-based, while iloc is integer-based.\n",
    "\n",
    "#### loc is used to select rows and columns by their labels. For example, to select the row with the label \"Alice\" and the column with the label \"Name\", you would use the following code:\n",
    "df.loc[\"Alice\", \"Name\"]\n",
    "#### iloc is used to select rows and columns by their integer positions. For example, to select the row with the index 0 and the column with the index 1, you would use the following code:\n",
    "df.iloc[0, 1]"
   ]
  },
  {
   "cell_type": "code",
   "execution_count": 29,
   "metadata": {
    "scrolled": true
   },
   "outputs": [
    {
     "name": "stdout",
     "output_type": "stream",
     "text": [
      "Name       Alice\n",
      "Age           25\n",
      "City    New York\n",
      "Name: 0, dtype: object\n"
     ]
    }
   ],
   "source": [
    "# Accessing rows using iloc\n",
    "print(df.iloc[0])\n"
   ]
  },
  {
   "cell_type": "code",
   "execution_count": 31,
   "metadata": {},
   "outputs": [
    {
     "name": "stdout",
     "output_type": "stream",
     "text": [
      "      Name  Age         City\n",
      "0    Alice   25     New York\n",
      "1      Bob   30  Los Angeles\n",
      "2  Charlie   22      Chicago\n",
      "3    David   28      Houston\n"
     ]
    }
   ],
   "source": [
    "# Select specific rows using a range\n",
    "subset_rows = df.iloc[0:5]\n",
    "print(subset_rows)"
   ]
  },
  {
   "cell_type": "code",
   "execution_count": 15,
   "metadata": {},
   "outputs": [
    {
     "name": "stdout",
     "output_type": "stream",
     "text": [
      "  Name  Age         City\n",
      "1  Bob   30  Los Angeles\n"
     ]
    }
   ],
   "source": [
    "# Select a row by label\n",
    "row_bob = df.loc[df['Name'] == 'Bob']\n",
    "print(row_bob)"
   ]
  },
  {
   "cell_type": "code",
   "execution_count": 33,
   "metadata": {},
   "outputs": [
    {
     "name": "stdout",
     "output_type": "stream",
     "text": [
      "      Name  Age      City\n",
      "0    Alice   25  New York\n",
      "2  Charlie   22   Chicago\n"
     ]
    }
   ],
   "source": [
    "# Select specific rows by label using a list of labels\n",
    "subset_rows = df.loc[[0, 2]]\n",
    "print(subset_rows)"
   ]
  },
  {
   "cell_type": "code",
   "execution_count": 41,
   "metadata": {},
   "outputs": [
    {
     "name": "stdout",
     "output_type": "stream",
     "text": [
      "   Age         City\n",
      "1   30  Los Angeles\n",
      "2   22      Chicago\n"
     ]
    }
   ],
   "source": [
    "# Indexing Rows and Columns Simultaneously:\n",
    "# Using iloc to select specific rows and columns by their positions\n",
    "subset = df.iloc[1:3, 1:3]\n",
    "print(subset)\n"
   ]
  },
  {
   "cell_type": "code",
   "execution_count": 39,
   "metadata": {},
   "outputs": [
    {
     "name": "stdout",
     "output_type": "stream",
     "text": [
      "      Name  Age\n",
      "0    Alice   25\n",
      "1      Bob   30\n",
      "2  Charlie   22\n",
      "3    David   28\n"
     ]
    }
   ],
   "source": [
    "# Indexing Rows and Columns Simultaneously:\n",
    "# Using loc to select specific rows and columns by their labels\n",
    "subset = df.loc[0:3, ['Name', 'Age']]\n",
    "print(subset)"
   ]
  },
  {
   "cell_type": "code",
   "execution_count": 15,
   "metadata": {},
   "outputs": [
    {
     "name": "stdout",
     "output_type": "stream",
     "text": [
      "      Name  Age      City\n",
      "0    Alice   25  New York\n",
      "2  Charlie   22   Chicago\n",
      "3    David   28   Houston\n"
     ]
    }
   ],
   "source": [
    "# Accessing rows using condition\n",
    "young_people = df[df['Age'] < 30]\n",
    "print(young_people)"
   ]
  },
  {
   "cell_type": "code",
   "execution_count": 21,
   "metadata": {},
   "outputs": [
    {
     "name": "stdout",
     "output_type": "stream",
     "text": [
      "      Name  Age     City\n",
      "2  Charlie   22  Chicago\n"
     ]
    }
   ],
   "source": [
    "# Select rows where City is 'Chicago'\n",
    "chicago_residents = df[df['City'] == 'Chicago']\n",
    "print(chicago_residents)"
   ]
  },
  {
   "cell_type": "code",
   "execution_count": null,
   "metadata": {},
   "outputs": [],
   "source": []
  },
  {
   "cell_type": "code",
   "execution_count": 16,
   "metadata": {},
   "outputs": [
    {
     "name": "stdout",
     "output_type": "stream",
     "text": [
      "      Name  Age         City  Salary\n",
      "0    Alice   25     New York   60000\n",
      "1      Bob   30  Los Angeles   70000\n",
      "2  Charlie   22      Chicago   55000\n",
      "3    David   28      Houston   65000\n"
     ]
    }
   ],
   "source": [
    "# Adding a new column\n",
    "df['Salary'] = [60000, 70000, 55000, 65000]\n",
    "print(df)"
   ]
  },
  {
   "cell_type": "code",
   "execution_count": 17,
   "metadata": {},
   "outputs": [
    {
     "name": "stdout",
     "output_type": "stream",
     "text": [
      "      Name  Years         City  Salary\n",
      "0    Alice     25     New York   60000\n",
      "1      Bob     30  Los Angeles   70000\n",
      "2  Charlie     22      Chicago   55000\n",
      "3    David     28      Houston   65000\n"
     ]
    }
   ],
   "source": [
    "# Renaming columns\n",
    "df.rename(columns={'Age': 'Years'}, inplace=True)\n",
    "print(df)"
   ]
  },
  {
   "cell_type": "code",
   "execution_count": 18,
   "metadata": {},
   "outputs": [
    {
     "name": "stdout",
     "output_type": "stream",
     "text": [
      "      Name  Years  Salary\n",
      "0    Alice     25   60000\n",
      "1      Bob     30   70000\n",
      "2  Charlie     22   55000\n",
      "3    David     28   65000\n"
     ]
    }
   ],
   "source": [
    "# Removing a column\n",
    "df.drop(columns=['City'], inplace=True)\n",
    "print(df)"
   ]
  },
  {
   "cell_type": "code",
   "execution_count": null,
   "metadata": {},
   "outputs": [],
   "source": []
  }
 ],
 "metadata": {
  "kernelspec": {
   "display_name": "Python 3",
   "language": "python",
   "name": "python3"
  },
  "language_info": {
   "codemirror_mode": {
    "name": "ipython",
    "version": 3
   },
   "file_extension": ".py",
   "mimetype": "text/x-python",
   "name": "python",
   "nbconvert_exporter": "python",
   "pygments_lexer": "ipython3",
   "version": "3.6.8"
  }
 },
 "nbformat": 4,
 "nbformat_minor": 4
}
