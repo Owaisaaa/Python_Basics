{
 "cells": [
  {
   "cell_type": "markdown",
   "metadata": {},
   "source": [
    "#### File handling in Python is the process of reading, writing, and manipulating files. Python provides a built-in library for file handling, called the os and io modules.\n",
    "\n",
    "#### The os module provides functions for interacting with the operating system, such as creating, deleting, and renaming files. The io module provides classes for reading and writing files."
   ]
  },
  {
   "cell_type": "code",
   "execution_count": 8,
   "metadata": {},
   "outputs": [
    {
     "name": "stdout",
     "output_type": "stream",
     "text": [
      "This is our demo file\n"
     ]
    }
   ],
   "source": [
    "import os\n",
    "\n",
    "file_path = \"Demo1.txt\"\n",
    "\n",
    "with open(file_path, \"r\") as f:\n",
    "    contents = f.read()\n",
    "\n",
    "print(contents)\n"
   ]
  },
  {
   "cell_type": "markdown",
   "metadata": {},
   "source": [
    "#### In this example, the open() function is used to open the file my_file.txt in read mode. The with statement ensures that the file is closed after it is finished being used. The read() method is used to read the contents of the file."
   ]
  },
  {
   "cell_type": "markdown",
   "metadata": {},
   "source": [
    "### Below is an example to write the contents to the file"
   ]
  },
  {
   "cell_type": "code",
   "execution_count": 10,
   "metadata": {},
   "outputs": [
    {
     "name": "stdout",
     "output_type": "stream",
     "text": [
      "File written successfully!\n"
     ]
    }
   ],
   "source": [
    "import os\n",
    "\n",
    "file_path = \"my_file.txt\"\n",
    "\n",
    "with open(file_path, \"w\") as f:\n",
    "    f.write(\"This is an experiment.\")\n",
    "\n",
    "print(\"File written successfully!\")\n"
   ]
  },
  {
   "cell_type": "markdown",
   "metadata": {},
   "source": [
    "### Below is an example to append the contents to the file"
   ]
  },
  {
   "cell_type": "code",
   "execution_count": 12,
   "metadata": {},
   "outputs": [
    {
     "name": "stdout",
     "output_type": "stream",
     "text": [
      "File appended successfully!\n"
     ]
    }
   ],
   "source": [
    "import os\n",
    "\n",
    "file_path = \"my_file.txt\"\n",
    "\n",
    "with open(file_path, \"a\") as f:\n",
    "    f.write(\"This is my new text which is appended to the file.\")\n",
    "\n",
    "print(\"File appended successfully!\")\n"
   ]
  },
  {
   "cell_type": "code",
   "execution_count": 13,
   "metadata": {},
   "outputs": [],
   "source": [
    "import os\n",
    "os.makedirs('C:\\\\Users\\\\owaisaaa\\\\Desktop\\\\mit_2\\\\')"
   ]
  },
  {
   "cell_type": "code",
   "execution_count": null,
   "metadata": {},
   "outputs": [],
   "source": []
  }
 ],
 "metadata": {
  "kernelspec": {
   "display_name": "Python 3",
   "language": "python",
   "name": "python3"
  },
  "language_info": {
   "codemirror_mode": {
    "name": "ipython",
    "version": 3
   },
   "file_extension": ".py",
   "mimetype": "text/x-python",
   "name": "python",
   "nbconvert_exporter": "python",
   "pygments_lexer": "ipython3",
   "version": "3.6.8"
  }
 },
 "nbformat": 4,
 "nbformat_minor": 4
}
