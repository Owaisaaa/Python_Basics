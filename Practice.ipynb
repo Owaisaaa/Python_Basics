{
 "cells": [
  {
   "cell_type": "code",
   "execution_count": 3,
   "metadata": {},
   "outputs": [
    {
     "data": {
      "text/plain": [
       "['a', 'b', 10000, 'khaipora']"
      ]
     },
     "execution_count": 3,
     "metadata": {},
     "output_type": "execute_result"
    }
   ],
   "source": [
    "# **In this notebook we will learn about List objects**\n",
    "\n",
    "\"\"\" **List Build Up**\n",
    "One common pattern is to start a list as the empty list [], then use append() or extend() to add elements to it:\n",
    "\"\"\"\n",
    "\n",
    "list = []          ## Start as the empty list\n",
    "list.append('a')   ## Use append() to add elements\n",
    "list.append('b')\n",
    "list.append(10000)\n",
    "list.append('khaipora')\n",
    "list"
   ]
  },
  {
   "cell_type": "code",
   "execution_count": 4,
   "metadata": {},
   "outputs": [
    {
     "name": "stdout",
     "output_type": "stream",
     "text": [
      "c\n",
      "['b', 'c', 'd']\n",
      "['z', 'c', 'd']\n"
     ]
    }
   ],
   "source": [
    "\"\"\"**List Slices**\n",
    "Slices work on lists just as with strings, and can also be used to change sub-parts of the list.\n",
    "\"\"\"\n",
    "\n",
    "list = ['a', 'b', 'c', 'd']\n",
    "print(list[-2])\n",
    "print(list[1:4])   ## ['b', 'c']\n",
    "list[0:2] = 'z'    ## replace ['a', 'b'] with ['z']\n",
    "print(list)         ## ['z', 'c', 'd']\n"
   ]
  },
  {
   "cell_type": "code",
   "execution_count": null,
   "metadata": {},
   "outputs": [],
   "source": []
  }
 ],
 "metadata": {
  "kernelspec": {
   "display_name": "Python 3",
   "language": "python",
   "name": "python3"
  },
  "language_info": {
   "codemirror_mode": {
    "name": "ipython",
    "version": 3
   },
   "file_extension": ".py",
   "mimetype": "text/x-python",
   "name": "python",
   "nbconvert_exporter": "python",
   "pygments_lexer": "ipython3",
   "version": "3.6.8"
  }
 },
 "nbformat": 4,
 "nbformat_minor": 4
}
